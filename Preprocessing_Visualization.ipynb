{
 "cells": [
  {
   "cell_type": "code",
   "execution_count": 3,
   "metadata": {},
   "outputs": [],
   "source": [
    "import pandas as pd\n",
    "import numpy as np\n",
    "import matplotlib.pyplot as plt\n",
    "import matplotlib as mpl\n",
    "import seaborn as sns\n",
    "%matplotlib inline\n",
    "\n",
    "# 한글폰트 사용시 그래프에서 마이너스 폰트 깨지는 문제에 대한 대처\n",
    "mpl.rcParams['axes.unicode_minus'] = False\n",
    "\n",
    "# 한글폰트 지정\n",
    "plt.rc(\"font\", family = \"Malgun Gothic\")\n",
    "plt.rc(\"axes\", unicode_minus = False)\n",
    "\n",
    "# 스타일 지정\n",
    "plt.style.use(['ggplot'])"
   ]
  },
  {
   "cell_type": "code",
   "execution_count": 4,
   "metadata": {
    "scrolled": true
   },
   "outputs": [],
   "source": [
    "df = pd.read_csv('everytime_reviews__.csv', encoding = 'cp949')"
   ]
  },
  {
   "cell_type": "markdown",
   "metadata": {},
   "source": [
    "# 전처리"
   ]
  },
  {
   "cell_type": "markdown",
   "metadata": {},
   "source": [
    "## 빈칸 0으로 채워주기\n",
    "- 수강 기간이 없는 경우"
   ]
  },
  {
   "cell_type": "code",
   "execution_count": 5,
   "metadata": {},
   "outputs": [],
   "source": [
    "df = df.fillna(0)"
   ]
  },
  {
   "cell_type": "code",
   "execution_count": 6,
   "metadata": {},
   "outputs": [
    {
     "data": {
      "text/html": [
       "<div>\n",
       "<style scoped>\n",
       "    .dataframe tbody tr th:only-of-type {\n",
       "        vertical-align: middle;\n",
       "    }\n",
       "\n",
       "    .dataframe tbody tr th {\n",
       "        vertical-align: top;\n",
       "    }\n",
       "\n",
       "    .dataframe thead th {\n",
       "        text-align: right;\n",
       "    }\n",
       "</style>\n",
       "<table border=\"1\" class=\"dataframe\">\n",
       "  <thead>\n",
       "    <tr style=\"text-align: right;\">\n",
       "      <th></th>\n",
       "      <th>category</th>\n",
       "      <th>lecture</th>\n",
       "      <th>professor</th>\n",
       "      <th>review</th>\n",
       "      <th>stars</th>\n",
       "      <th>semester</th>\n",
       "    </tr>\n",
       "  </thead>\n",
       "  <tbody>\n",
       "  </tbody>\n",
       "</table>\n",
       "</div>"
      ],
      "text/plain": [
       "Empty DataFrame\n",
       "Columns: [category, lecture, professor, review, stars, semester]\n",
       "Index: []"
      ]
     },
     "execution_count": 6,
     "metadata": {},
     "output_type": "execute_result"
    }
   ],
   "source": [
    "df[df['semester'].isnull() == True]"
   ]
  },
  {
   "cell_type": "markdown",
   "metadata": {},
   "source": [
    "## 특수문자 제거\n",
    "- 정규표현식 활용"
   ]
  },
  {
   "cell_type": "code",
   "execution_count": 7,
   "metadata": {},
   "outputs": [],
   "source": [
    "def delete_not_str(x):    \n",
    "    if 'A+' in x:\n",
    "        x = re.sub(r'[^ ㄱ-ㅣ가-힣A-Za-z]', '', x)\n",
    "        x = x.replace('A', 'A+')\n",
    "    elif 'B+' in x:\n",
    "        x = re.sub(r'[^ ㄱ-ㅣ가-힣A-Za-z]', '', x)\n",
    "        x = x.replace('B', 'B+')\n",
    "    elif 'C+' in x:\n",
    "        x = re.sub(r'[^ ㄱ-ㅣ가-힣A-Za-z]', '', x)\n",
    "        x = x.replace('C', 'C+')\n",
    "    else:\n",
    "        x = re.sub(r'[^ ㄱ-ㅣ가-힣A-Za-z]', '', x)\n",
    "    return x"
   ]
  },
  {
   "cell_type": "code",
   "execution_count": 8,
   "metadata": {},
   "outputs": [],
   "source": [
    "import re\n",
    "# 특수문자 제거\n",
    "\n",
    "df['review'] = df['review'].apply(delete_not_str)"
   ]
  },
  {
   "cell_type": "markdown",
   "metadata": {},
   "source": [
    "## 글자수 column 추가 & 분포 확인"
   ]
  },
  {
   "cell_type": "code",
   "execution_count": 9,
   "metadata": {},
   "outputs": [],
   "source": [
    "df['length'] = df['review'].map(lambda x: len(x))"
   ]
  },
  {
   "cell_type": "code",
   "execution_count": 10,
   "metadata": {},
   "outputs": [
    {
     "data": {
      "text/plain": [
       "<AxesSubplot:ylabel='Frequency'>"
      ]
     },
     "execution_count": 10,
     "metadata": {},
     "output_type": "execute_result"
    },
    {
     "data": {
      "image/png": "[encoded data removed]",
      "text/plain": [
       "<Figure size 432x288 with 1 Axes>"
      ]
     },
     "metadata": {},
     "output_type": "display_data"
    }
   ],
   "source": [
    "df['length'].plot.hist()"
   ]
  },
  {
   "cell_type": "markdown",
   "metadata": {},
   "source": [
    "## 단어 빈도수 계산"
   ]
  },
  {
   "cell_type": "code",
   "execution_count": 20,
   "metadata": {},
   "outputs": [],
   "source": [
    "from konlpy.tag import Kkma\n",
    "tagger = Kkma()\n",
    "#tagger.nouns(text)"
   ]
  },
  {
   "cell_type": "code",
   "execution_count": 22,
   "metadata": {
    "scrolled": true
   },
   "outputs": [
    {
     "data": {
      "text/plain": [
       "0       None\n",
       "1       None\n",
       "2       None\n",
       "3       None\n",
       "4       None\n",
       "        ... \n",
       "2739    None\n",
       "2740    None\n",
       "2741    None\n",
       "2742    None\n",
       "2743    None\n",
       "Name: review, Length: 2744, dtype: object"
      ]
     },
     "execution_count": 22,
     "metadata": {},
     "output_type": "execute_result"
    }
   ],
   "source": [
    "from collections import Counter\n",
    "from konlpy.tag import Kkma\n",
    "tagger = Kkma()\n",
    "\n",
    "counter = Counter()\n",
    "\n",
    "def add_counter(text):\n",
    "    text_n=tagger.nouns(text)\n",
    "    counter.update(text_n)\n",
    "\n",
    "df['review'].apply(add_counter)"
   ]
  },
  {
   "cell_type": "code",
   "execution_count": 32,
   "metadata": {},
   "outputs": [
    {
     "data": {
      "text/plain": [
       "[('수업', 1529),\n",
       " ('교수님', 1283),\n",
       " ('시험', 1249),\n",
       " ('강의', 1132),\n",
       " ('수', 870),\n",
       " ('내용', 784),\n",
       " ('과제', 735),\n",
       " ('학점', 658),\n",
       " ('거', 647),\n",
       " ('공부', 582),\n",
       " ('기말', 579),\n",
       " ('시간', 541),\n",
       " ('문제', 525),\n",
       " ('생각', 521),\n",
       " ('중간', 488),\n",
       " ('때', 472),\n",
       " ('교양', 460),\n",
       " ('정도', 435),\n",
       " ('학기', 415),\n",
       " ('강', 414)]"
      ]
     },
     "execution_count": 32,
     "metadata": {},
     "output_type": "execute_result"
    }
   ],
   "source": [
    "counter.most_common(20)"
   ]
  },
  {
   "cell_type": "markdown",
   "metadata": {},
   "source": [
    "## 평점 전처리\n",
    "- width : 80% -> 4점\n",
    "- width : 100% -> 5점"
   ]
  },
  {
   "cell_type": "code",
   "execution_count": 11,
   "metadata": {},
   "outputs": [
    {
     "data": {
      "text/plain": [
       "0     width: 60%;\n",
       "1    width: 100%;\n",
       "2     width: 20%;\n",
       "3     width: 60%;\n",
       "4     width: 80%;\n",
       "Name: stars, dtype: object"
      ]
     },
     "execution_count": 11,
     "metadata": {},
     "output_type": "execute_result"
    }
   ],
   "source": [
    "df['stars'][:5]"
   ]
  },
  {
   "cell_type": "code",
   "execution_count": 12,
   "metadata": {},
   "outputs": [
    {
     "data": {
      "text/plain": [
       "0       3\n",
       "1       5\n",
       "2       1\n",
       "3       3\n",
       "4       4\n",
       "       ..\n",
       "2739    5\n",
       "2740    4\n",
       "2741    5\n",
       "2742    4\n",
       "2743    5\n",
       "Name: stars, Length: 2744, dtype: int64"
      ]
     },
     "execution_count": 12,
     "metadata": {},
     "output_type": "execute_result"
    }
   ],
   "source": [
    "# 숫자만 남기기\n",
    "df['stars'] = df['stars'].apply(lambda x: re.sub(r'[^0-9]','',x))\n",
    "df['stars'] = df['stars'].apply(lambda x: int(x)//20)"
   ]
  },
  {
   "cell_type": "markdown",
   "metadata": {},
   "source": [
    "# Visualization"
   ]
  },
  {
   "cell_type": "markdown",
   "metadata": {},
   "source": [
    "## category 별 리뷰 개수"
   ]
  },
  {
   "cell_type": "code",
   "execution_count": 13,
   "metadata": {},
   "outputs": [
    {
     "data": {
      "text/html": [
       "<div>\n",
       "<style scoped>\n",
       "    .dataframe tbody tr th:only-of-type {\n",
       "        vertical-align: middle;\n",
       "    }\n",
       "\n",
       "    .dataframe tbody tr th {\n",
       "        vertical-align: top;\n",
       "    }\n",
       "\n",
       "    .dataframe thead th {\n",
       "        text-align: right;\n",
       "    }\n",
       "</style>\n",
       "<table border=\"1\" class=\"dataframe\">\n",
       "  <thead>\n",
       "    <tr style=\"text-align: right;\">\n",
       "      <th></th>\n",
       "      <th>lecture</th>\n",
       "      <th>professor</th>\n",
       "      <th>review</th>\n",
       "      <th>stars</th>\n",
       "      <th>semester</th>\n",
       "      <th>length</th>\n",
       "    </tr>\n",
       "    <tr>\n",
       "      <th>category</th>\n",
       "      <th></th>\n",
       "      <th></th>\n",
       "      <th></th>\n",
       "      <th></th>\n",
       "      <th></th>\n",
       "      <th></th>\n",
       "    </tr>\n",
       "  </thead>\n",
       "  <tbody>\n",
       "    <tr>\n",
       "      <th>가치와 윤리</th>\n",
       "      <td>315</td>\n",
       "      <td>315</td>\n",
       "      <td>315</td>\n",
       "      <td>315</td>\n",
       "      <td>315</td>\n",
       "      <td>315</td>\n",
       "    </tr>\n",
       "    <tr>\n",
       "      <th>국가와 사회</th>\n",
       "      <td>185</td>\n",
       "      <td>185</td>\n",
       "      <td>185</td>\n",
       "      <td>185</td>\n",
       "      <td>185</td>\n",
       "      <td>185</td>\n",
       "    </tr>\n",
       "    <tr>\n",
       "      <th>논리와수리</th>\n",
       "      <td>186</td>\n",
       "      <td>186</td>\n",
       "      <td>186</td>\n",
       "      <td>186</td>\n",
       "      <td>186</td>\n",
       "      <td>186</td>\n",
       "    </tr>\n",
       "    <tr>\n",
       "      <th>문학과예술</th>\n",
       "      <td>499</td>\n",
       "      <td>499</td>\n",
       "      <td>499</td>\n",
       "      <td>499</td>\n",
       "      <td>499</td>\n",
       "      <td>499</td>\n",
       "    </tr>\n",
       "    <tr>\n",
       "      <th>생명과환경</th>\n",
       "      <td>143</td>\n",
       "      <td>143</td>\n",
       "      <td>143</td>\n",
       "      <td>143</td>\n",
       "      <td>143</td>\n",
       "      <td>143</td>\n",
       "    </tr>\n",
       "    <tr>\n",
       "      <th>인간과역사</th>\n",
       "      <td>506</td>\n",
       "      <td>506</td>\n",
       "      <td>506</td>\n",
       "      <td>506</td>\n",
       "      <td>506</td>\n",
       "      <td>506</td>\n",
       "    </tr>\n",
       "    <tr>\n",
       "      <th>자연과우주</th>\n",
       "      <td>186</td>\n",
       "      <td>186</td>\n",
       "      <td>186</td>\n",
       "      <td>186</td>\n",
       "      <td>186</td>\n",
       "      <td>186</td>\n",
       "    </tr>\n",
       "    <tr>\n",
       "      <th>정보와기술</th>\n",
       "      <td>174</td>\n",
       "      <td>174</td>\n",
       "      <td>174</td>\n",
       "      <td>174</td>\n",
       "      <td>174</td>\n",
       "      <td>174</td>\n",
       "    </tr>\n",
       "    <tr>\n",
       "      <th>지역사회와세계</th>\n",
       "      <td>550</td>\n",
       "      <td>550</td>\n",
       "      <td>550</td>\n",
       "      <td>550</td>\n",
       "      <td>550</td>\n",
       "      <td>550</td>\n",
       "    </tr>\n",
       "  </tbody>\n",
       "</table>\n",
       "</div>"
      ],
      "text/plain": [
       "          lecture  professor  review  stars  semester  length\n",
       "category                                                     \n",
       "가치와 윤리        315        315     315    315       315     315\n",
       "국가와 사회        185        185     185    185       185     185\n",
       "논리와수리         186        186     186    186       186     186\n",
       "문학과예술         499        499     499    499       499     499\n",
       "생명과환경         143        143     143    143       143     143\n",
       "인간과역사         506        506     506    506       506     506\n",
       "자연과우주         186        186     186    186       186     186\n",
       "정보와기술         174        174     174    174       174     174\n",
       "지역사회와세계       550        550     550    550       550     550"
      ]
     },
     "execution_count": 13,
     "metadata": {},
     "output_type": "execute_result"
    }
   ],
   "source": [
    "category_cnt = df.groupby(['category']).count()\n",
    "category_cnt"
   ]
  },
  {
   "cell_type": "code",
   "execution_count": 14,
   "metadata": {},
   "outputs": [
    {
     "data": {
      "text/plain": [
       "Text(0.5, 1.0, '카테고리 별 개수')"
      ]
     },
     "execution_count": 14,
     "metadata": {},
     "output_type": "execute_result"
    },
    {
     "data": {
      "image/png": "[encoded data removed]",
      "text/plain": [
       "<Figure size 864x432 with 1 Axes>"
      ]
     },
     "metadata": {
      "needs_background": "light"
     },
     "output_type": "display_data"
    }
   ],
   "source": [
    "category_cnt = df.groupby(['category']).count()\n",
    "\n",
    "n \n",
    "plt.figure(figsize = (12,6))\n",
    "x = sns.barplot(\n",
    "    data = category_cnt,\n",
    "    x = category_cnt.index,\n",
    "    y = category_cnt.review)\n",
    "\n",
    "for p in x.patches:\n",
    "    left, bottom, width, height = p.get_bbox().bounds\n",
    "    plt.annotate(\"%.f\"%(height), (left+width/2, height*1.01), ha = 'center',fontsize = 12)\n",
    "plt.title('카테고리 별 개수', fontsize = 20)"
   ]
  },
  {
   "cell_type": "markdown",
   "metadata": {},
   "source": [
    "## 강의 별 리뷰 개수"
   ]
  },
  {
   "cell_type": "code",
   "execution_count": 15,
   "metadata": {},
   "outputs": [
    {
     "data": {
      "text/plain": [
       "Text(0.5, 1.0, '강의 별 리뷰 개수')"
      ]
     },
     "execution_count": 15,
     "metadata": {},
     "output_type": "execute_result"
    },
    {
     "data": {
      "image/png": "[encoded data removed]",
      "text/plain": [
       "<Figure size 1080x720 with 1 Axes>"
      ]
     },
     "metadata": {
      "needs_background": "light"
     },
     "output_type": "display_data"
    }
   ],
   "source": [
    "lecture_cnt = df.groupby(['lecture']).count()\n",
    "\n",
    "plt.figure(figsize = (15,10))\n",
    "x = sns.barplot(\n",
    "    data = lecture_cnt,\n",
    "    y = lecture_cnt.index,\n",
    "    x = lecture_cnt.review,\n",
    "    orient = 'h')\n",
    "\n",
    "\n",
    "#for p in y.patches:\n",
    "#    left, bottom, width, height = p.get_bbox().bounds\n",
    "#    plt.annotate(\"%.f\"%(height), (left+width/2, height*1.01), ha = 'center',fontsize = 12)\n",
    "plt.title('강의 별 리뷰 개수', fontsize = 20)"
   ]
  },
  {
   "cell_type": "code",
   "execution_count": 16,
   "metadata": {},
   "outputs": [
    {
     "data": {
      "text/html": [
       "<div>\n",
       "<style scoped>\n",
       "    .dataframe tbody tr th:only-of-type {\n",
       "        vertical-align: middle;\n",
       "    }\n",
       "\n",
       "    .dataframe tbody tr th {\n",
       "        vertical-align: top;\n",
       "    }\n",
       "\n",
       "    .dataframe thead th {\n",
       "        text-align: right;\n",
       "    }\n",
       "</style>\n",
       "<table border=\"1\" class=\"dataframe\">\n",
       "  <thead>\n",
       "    <tr style=\"text-align: right;\">\n",
       "      <th></th>\n",
       "      <th></th>\n",
       "      <th>category</th>\n",
       "      <th>professor</th>\n",
       "      <th>review</th>\n",
       "      <th>stars</th>\n",
       "      <th>length</th>\n",
       "    </tr>\n",
       "    <tr>\n",
       "      <th>lecture</th>\n",
       "      <th>semester</th>\n",
       "      <th></th>\n",
       "      <th></th>\n",
       "      <th></th>\n",
       "      <th></th>\n",
       "      <th></th>\n",
       "    </tr>\n",
       "  </thead>\n",
       "  <tbody>\n",
       "    <tr>\n",
       "      <th rowspan=\"5\" valign=\"top\">건강과운동</th>\n",
       "      <th>15년 1학기 수강자</th>\n",
       "      <td>2</td>\n",
       "      <td>2</td>\n",
       "      <td>2</td>\n",
       "      <td>2</td>\n",
       "      <td>2</td>\n",
       "    </tr>\n",
       "    <tr>\n",
       "      <th>16년 1학기 수강자</th>\n",
       "      <td>3</td>\n",
       "      <td>3</td>\n",
       "      <td>3</td>\n",
       "      <td>3</td>\n",
       "      <td>3</td>\n",
       "    </tr>\n",
       "    <tr>\n",
       "      <th>17년 1학기 수강자</th>\n",
       "      <td>12</td>\n",
       "      <td>12</td>\n",
       "      <td>12</td>\n",
       "      <td>12</td>\n",
       "      <td>12</td>\n",
       "    </tr>\n",
       "    <tr>\n",
       "      <th>18년 1학기 수강자</th>\n",
       "      <td>14</td>\n",
       "      <td>14</td>\n",
       "      <td>14</td>\n",
       "      <td>14</td>\n",
       "      <td>14</td>\n",
       "    </tr>\n",
       "    <tr>\n",
       "      <th>19년 1학기 수강자</th>\n",
       "      <td>15</td>\n",
       "      <td>15</td>\n",
       "      <td>15</td>\n",
       "      <td>15</td>\n",
       "      <td>15</td>\n",
       "    </tr>\n",
       "    <tr>\n",
       "      <th>...</th>\n",
       "      <th>...</th>\n",
       "      <td>...</td>\n",
       "      <td>...</td>\n",
       "      <td>...</td>\n",
       "      <td>...</td>\n",
       "      <td>...</td>\n",
       "    </tr>\n",
       "    <tr>\n",
       "      <th rowspan=\"5\" valign=\"top\">활과리라</th>\n",
       "      <th>17년 1학기 수강자</th>\n",
       "      <td>12</td>\n",
       "      <td>12</td>\n",
       "      <td>12</td>\n",
       "      <td>12</td>\n",
       "      <td>12</td>\n",
       "    </tr>\n",
       "    <tr>\n",
       "      <th>18년 1학기 수강자</th>\n",
       "      <td>14</td>\n",
       "      <td>14</td>\n",
       "      <td>14</td>\n",
       "      <td>14</td>\n",
       "      <td>14</td>\n",
       "    </tr>\n",
       "    <tr>\n",
       "      <th>19년 1학기 수강자</th>\n",
       "      <td>15</td>\n",
       "      <td>15</td>\n",
       "      <td>15</td>\n",
       "      <td>15</td>\n",
       "      <td>15</td>\n",
       "    </tr>\n",
       "    <tr>\n",
       "      <th>20년 1학기 수강자</th>\n",
       "      <td>9</td>\n",
       "      <td>9</td>\n",
       "      <td>9</td>\n",
       "      <td>9</td>\n",
       "      <td>9</td>\n",
       "    </tr>\n",
       "    <tr>\n",
       "      <th>21년 1학기 수강자</th>\n",
       "      <td>2</td>\n",
       "      <td>2</td>\n",
       "      <td>2</td>\n",
       "      <td>2</td>\n",
       "      <td>2</td>\n",
       "    </tr>\n",
       "  </tbody>\n",
       "</table>\n",
       "<p>193 rows × 5 columns</p>\n",
       "</div>"
      ],
      "text/plain": [
       "                     category  professor  review  stars  length\n",
       "lecture semester                                               \n",
       "건강과운동   15년 1학기 수강자         2          2       2      2       2\n",
       "        16년 1학기 수강자         3          3       3      3       3\n",
       "        17년 1학기 수강자        12         12      12     12      12\n",
       "        18년 1학기 수강자        14         14      14     14      14\n",
       "        19년 1학기 수강자        15         15      15     15      15\n",
       "...                       ...        ...     ...    ...     ...\n",
       "활과리라    17년 1학기 수강자        12         12      12     12      12\n",
       "        18년 1학기 수강자        14         14      14     14      14\n",
       "        19년 1학기 수강자        15         15      15     15      15\n",
       "        20년 1학기 수강자         9          9       9      9       9\n",
       "        21년 1학기 수강자         2          2       2      2       2\n",
       "\n",
       "[193 rows x 5 columns]"
      ]
     },
     "execution_count": 16,
     "metadata": {},
     "output_type": "execute_result"
    }
   ],
   "source": [
    "lecture_cnt = df.groupby(['lecture','semester']).count()\n",
    "lecture_cnt"
   ]
  },
  {
   "cell_type": "code",
   "execution_count": 18,
   "metadata": {},
   "outputs": [],
   "source": [
    "df.to_csv('everytime_review_pre.csv', index = False)"
   ]
  },
  {
   "cell_type": "code",
   "execution_count": 3,
   "metadata": {},
   "outputs": [
    {
     "data": {
      "text/plain": [
       "2744"
      ]
     },
     "execution_count": 3,
     "metadata": {},
     "output_type": "execute_result"
    }
   ],
   "source": [
    "len(df)"
   ]
  },
  {
   "cell_type": "code",
   "execution_count": null,
   "metadata": {},
   "outputs": [],
   "source": []
  }
 ],
 "metadata": {
  "kernelspec": {
   "display_name": "Python 3",
   "language": "python",
   "name": "python3"
  },
  "language_info": {
   "codemirror_mode": {
    "name": "ipython",
    "version": 3
   },
   "file_extension": ".py",
   "mimetype": "text/x-python",
   "name": "python",
   "nbconvert_exporter": "python",
   "pygments_lexer": "ipython3",
   "version": "3.7.3"
  },
  "toc": {
   "base_numbering": 1,
   "nav_menu": {},
   "number_sections": true,
   "sideBar": true,
   "skip_h1_title": false,
   "title_cell": "Table of Contents",
   "title_sidebar": "Contents",
   "toc_cell": false,
   "toc_position": {},
   "toc_section_display": true,
   "toc_window_display": false
  }
 },
 "nbformat": 4,
 "nbformat_minor": 4
}
