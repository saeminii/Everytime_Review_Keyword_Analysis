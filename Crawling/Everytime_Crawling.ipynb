{
 "cells": [
  {
   "cell_type": "code",
   "execution_count": 1,
   "id": "foreign-outreach",
   "metadata": {},
   "outputs": [],
   "source": [
    "import numpy as np\n",
    "import requests\n",
    "from bs4 import BeautifulSoup as bs\n",
    "import selenium\n",
    "from selenium import webdriver as wd\n",
    "import time\n",
    "import pandas as pd\n",
    "import random"
   ]
  },
  {
   "cell_type": "code",
   "execution_count": 2,
   "id": "coral-sensitivity",
   "metadata": {},
   "outputs": [],
   "source": [
    "import time"
   ]
  },
  {
   "cell_type": "code",
   "execution_count": 3,
   "id": "enabling-daniel",
   "metadata": {},
   "outputs": [],
   "source": [
    "#자동 로그인\n",
    "\n",
    "#에브리타임 자동 로그인\n",
    "\n",
    "#가상브라우저 사용\n",
    "options = wd.ChromeOptions()\n",
    "#options.add_argument(\"no-sandbox\")\n",
    "#options.add_argument(\"--disable-dev-shm-usage\")\n",
    "options.add_argument(\"user-agent={'Mozilla/5.0 (Windows NT 10.0; Win64; x64) AppleWebKit/537.36 (KHTML, like Gecko) Chrome/89.0.4389.114 Safari/537.36}\")\n",
    "\n",
    "# 크롬드라이버를 다운받은 경로를 넣기\n",
    "driver = wd.Chrome(executable_path='C:\\selenium_server/chromedriver', options = options )\n",
    "#driver.implcitly_wait(1)\n",
    "\n",
    "\n",
    "baseURL = \"https://everytime.kr/login\"\n",
    "\n",
    "rand_value = random.uniform(2,4) #랜덤한 시간으로\n",
    "time.sleep(rand_value) #sleep 쉬어주기\n",
    "\n",
    "driver.get(baseURL)\n",
    "\n",
    "rand_value = random.uniform(2,4)\n",
    "time.sleep(rand_value)\n",
    "\n",
    "driver.find_element_by_name('userid').send_keys() # 괄호 안에 id\n",
    "driver.find_element_by_name('password').send_keys() # 괄호 안에 password\n",
    "\n",
    "rand_value = random.uniform(2,4)\n",
    "time.sleep(rand_value)\n",
    "driver.find_element_by_xpath('//*[@class=\"submit\"]/input').click()\n",
    "\n"
   ]
  },
  {
   "cell_type": "code",
   "execution_count": 4,
   "id": "pleasant-fountain",
   "metadata": {},
   "outputs": [],
   "source": [
    "# dictionary {'교양 카테고리' :[(강의명, 교수님 성함),(강의명, 교수님 성함),...]}\n",
    "lecture_info = {\n",
    " \n",
    "}\n",
    "   "
   ]
  },
  {
   "cell_type": "code",
   "execution_count": 7,
   "id": "prescribed-jones",
   "metadata": {},
   "outputs": [
    {
     "name": "stdout",
     "output_type": "stream",
     "text": [
      "46\n",
      "45\n",
      "46\n",
      "45\n"
     ]
    },
    {
     "ename": "KeyboardInterrupt",
     "evalue": "",
     "output_type": "error",
     "traceback": [
      "\u001b[1;31m---------------------------------------------------------------------------\u001b[0m",
      "\u001b[1;31mKeyboardInterrupt\u001b[0m                         Traceback (most recent call last)",
      "\u001b[1;32m<ipython-input-7-2109c384e350>\u001b[0m in \u001b[0;36m<module>\u001b[1;34m()\u001b[0m\n\u001b[0;32m     28\u001b[0m         \u001b[0mdriver\u001b[0m\u001b[1;33m.\u001b[0m\u001b[0mget\u001b[0m\u001b[1;33m(\u001b[0m\u001b[1;34m\"https://everytime.kr/\"\u001b[0m \u001b[1;33m+\u001b[0m \u001b[0mlecture_url\u001b[0m\u001b[1;33m)\u001b[0m\u001b[1;33m\u001b[0m\u001b[1;33m\u001b[0m\u001b[0m\n\u001b[0;32m     29\u001b[0m         \u001b[0mrand_value\u001b[0m \u001b[1;33m=\u001b[0m \u001b[0mrandom\u001b[0m\u001b[1;33m.\u001b[0m\u001b[0muniform\u001b[0m\u001b[1;33m(\u001b[0m\u001b[1;36m3\u001b[0m\u001b[1;33m,\u001b[0m\u001b[1;36m4\u001b[0m\u001b[1;33m)\u001b[0m\u001b[1;33m\u001b[0m\u001b[1;33m\u001b[0m\u001b[0m\n\u001b[1;32m---> 30\u001b[1;33m         \u001b[0mtime\u001b[0m\u001b[1;33m.\u001b[0m\u001b[0msleep\u001b[0m\u001b[1;33m(\u001b[0m\u001b[0mrand_value\u001b[0m\u001b[1;33m)\u001b[0m\u001b[1;33m\u001b[0m\u001b[1;33m\u001b[0m\u001b[0m\n\u001b[0m\u001b[0;32m     31\u001b[0m \u001b[1;33m\u001b[0m\u001b[0m\n\u001b[0;32m     32\u001b[0m \u001b[1;33m\u001b[0m\u001b[0m\n",
      "\u001b[1;31mKeyboardInterrupt\u001b[0m: "
     ]
    }
   ],
   "source": [
    "data = pd.DataFrame()\n",
    "for key in lecture_info.keys():\n",
    "    rand_value = random.uniform(1,3)\n",
    "    time.sleep(rand_value)\n",
    "    for lec, prof in lecture_info[key]:\n",
    "        # 강의평 화면으로 넘어가기\n",
    "        driver.get('https://everytime.kr/lecture/search/' + lec)\n",
    "\n",
    "        \n",
    "        # 검색하고 나서 긁어오고, 강의평 들어가는 링크 찾기\n",
    "        rand_value = random.uniform(2,4)\n",
    "        time.sleep(rand_value)\n",
    "        html = driver.page_source\n",
    "        soup = bs(html,'html.parser')\n",
    "\n",
    "\n",
    "        # 여러 강의 중 특정 교수님의 강의 찾기\n",
    "        lectures = soup.find_all('a', class_ = 'lecture')\n",
    "        for lecture in lectures:\n",
    "            if lecture.find('p', class_='professor').get_text() == prof:\n",
    "                lecture_url = lecture['href']\n",
    "                break\n",
    "        rand_value = random.uniform(1,2)\n",
    "        time.sleep(rand_value)\n",
    "        #soup.find_all('p',class_='professor')\n",
    "        \n",
    "        \n",
    "        driver.get(\"https://everytime.kr/\" + lecture_url)\n",
    "        rand_value = random.uniform(3,4)\n",
    "        time.sleep(rand_value)\n",
    "\n",
    "\n",
    "        # 강의평 링크에서 page_source 읽어오기\n",
    "        html = driver.page_source\n",
    "        soup = bs(html,'html.parser')\n",
    "\n",
    "\n",
    "        # 강의평 정보 수집\n",
    "        articles = soup.find_all('article')\n",
    "\n",
    "        stars = []\n",
    "        semesters = []\n",
    "        reviews = []\n",
    "\n",
    "\n",
    "        for article in articles:\n",
    "            if article.find('div', class_ ='pay') == None: # 족보나 시험 후기 div.article 제외 \n",
    "                star = article.find('span', class_ = 'on')['style']\n",
    "                review = article.find('p', class_ = 'text').get_text()\n",
    "                \n",
    "                if article.find('span', class_ = 'semester') is not None: # semester 정보가 없는 경우 고려\n",
    "                    semester = article.find('span', class_ = 'semester').get_text()\n",
    "                else:\n",
    "                    semester = None\n",
    "\n",
    "                stars.append(star)\n",
    "                semesters.append(semester)\n",
    "                reviews.append(review)\n",
    "            else:\n",
    "                continue\n",
    "\n",
    "        temp_df = pd.DataFrame({\n",
    "            'category' : key,\n",
    "            'lecture' : lec,\n",
    "            'professor' : prof,\n",
    "            'review' : reviews,\n",
    "            'stars' : stars,\n",
    "            'semester' : semesters\n",
    "        })\n",
    "        \n",
    "        data = data.append(temp_df, ignore_index = True)"
   ]
  },
  {
   "cell_type": "code",
   "execution_count": 32,
   "id": "governing-terrorism",
   "metadata": {},
   "outputs": [],
   "source": [
    "data.to_csv('everytime_reviews_.csv', index = False)"
   ]
  },
  {
   "cell_type": "code",
   "execution_count": null,
   "id": "retained-physics",
   "metadata": {},
   "outputs": [],
   "source": []
  }
 ],
 "metadata": {
  "kernelspec": {
   "display_name": "Python 3",
   "language": "python",
   "name": "python3"
  },
  "language_info": {
   "codemirror_mode": {
    "name": "ipython",
    "version": 3
   },
   "file_extension": ".py",
   "mimetype": "text/x-python",
   "name": "python",
   "nbconvert_exporter": "python",
   "pygments_lexer": "ipython3",
   "version": "3.7.3"
  },
  "toc": {
   "base_numbering": 1,
   "nav_menu": {},
   "number_sections": true,
   "sideBar": true,
   "skip_h1_title": false,
   "title_cell": "Table of Contents",
   "title_sidebar": "Contents",
   "toc_cell": false,
   "toc_position": {},
   "toc_section_display": true,
   "toc_window_display": false
  }
 },
 "nbformat": 4,
 "nbformat_minor": 5
}
